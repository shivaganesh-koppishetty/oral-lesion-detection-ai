{
 "cells": [
  {
   "cell_type": "code",
   "execution_count": 1,
   "id": "1ff80d02",
   "metadata": {},
   "outputs": [],
   "source": [
    "import os"
   ]
  },
  {
   "cell_type": "code",
   "execution_count": 2,
   "id": "cc256610",
   "metadata": {},
   "outputs": [
    {
     "data": {
      "text/plain": [
       "'d:\\\\AI ML Project\\\\oral-lesion-detection-ai\\\\research'"
      ]
     },
     "execution_count": 2,
     "metadata": {},
     "output_type": "execute_result"
    }
   ],
   "source": [
    "pwd"
   ]
  },
  {
   "cell_type": "code",
   "execution_count": 3,
   "id": "489a72c1",
   "metadata": {},
   "outputs": [],
   "source": [
    "os.chdir(\"../\")"
   ]
  },
  {
   "cell_type": "code",
   "execution_count": 4,
   "id": "630b622f",
   "metadata": {},
   "outputs": [
    {
     "data": {
      "text/plain": [
       "'d:\\\\AI ML Project\\\\oral-lesion-detection-ai'"
      ]
     },
     "execution_count": 4,
     "metadata": {},
     "output_type": "execute_result"
    }
   ],
   "source": [
    "pwd"
   ]
  },
  {
   "cell_type": "code",
   "execution_count": 5,
   "id": "8c0bd9f6",
   "metadata": {},
   "outputs": [],
   "source": [
    "from dataclasses import dataclass\n",
    "from pathlib import Path\n",
    "\n",
    "\n",
    "@dataclass(frozen=True)\n",
    "class DataIngestionConfig:\n",
    "    root_dir : Path\n",
    "    source_URL : str\n",
    "    local_data_file : Path\n",
    "    unzip_dir : Path\n",
    "    training_data : Path"
   ]
  },
  {
   "cell_type": "code",
   "execution_count": 6,
   "id": "33d333aa",
   "metadata": {},
   "outputs": [],
   "source": [
    "from cnnClassifier.constants import *\n",
    "from cnnClassifier.utils.common import read_yaml, create_directories"
   ]
  },
  {
   "cell_type": "code",
   "execution_count": 7,
   "id": "59a3f645",
   "metadata": {},
   "outputs": [],
   "source": [
    "class ConfigurationManager:\n",
    "    def __init__(self, config_file_path = CONFIG_FILE_PATH, Params_file_path = PARAMS_FILE_PATH):\n",
    "        self.config = read_yaml(config_file_path)\n",
    "        self.params = read_yaml(Params_file_path)\n",
    "\n",
    "        create_directories([self.config.artifacts_root])\n",
    "\n",
    "\n",
    "\n",
    "    def get_data_ingestion_config(self) -> DataIngestionConfig:\n",
    "        config = self.config.data_ingestion\n",
    "        training_data = os.path.join(self.config.data_ingestion.unzip_dir, \"Oral Cancer Image Dataset\")\n",
    "\n",
    "        create_directories([config.root_dir])\n",
    "\n",
    "        data_ingestion_config = DataIngestionConfig(\n",
    "            root_dir = config.root_dir,\n",
    "            source_URL = config.source_URL,\n",
    "            local_data_file = config.local_data_file,\n",
    "            unzip_dir = config.unzip_dir,\n",
    "            training_data = Path(training_data)\n",
    "        )\n",
    "\n",
    "        return data_ingestion_config\n",
    "     "
   ]
  },
  {
   "cell_type": "code",
   "execution_count": null,
   "id": "9efe8ce8",
   "metadata": {},
   "outputs": [],
   "source": [
    "import os\n",
    "import zipfile\n",
    "import gdown\n",
    "from cnnClassifier import logger\n",
    "from cnnClassifier.utils.common import get_size\n",
    "from PIL import Image, UnidentifiedImageError"
   ]
  },
  {
   "cell_type": "code",
   "execution_count": null,
   "id": "5624ee97",
   "metadata": {},
   "outputs": [],
   "source": [
    "class DataIngestion:\n",
    "    def __init__(self, config: DataIngestionConfig):\n",
    "        self.config = config\n",
    "\n",
    "\n",
    "    def download_file(self):\n",
    "        \"\"\"\n",
    "        fetch data from url\n",
    "        \"\"\"\n",
    "        try:\n",
    "            dataset_url = self.config.source_URL\n",
    "            zip_download_dir = self.config.local_data_file\n",
    "            os.makedirs(\"artifacts/data_ingestion\", exist_ok=True)\n",
    "            logger.info(f\"Downloading data from {dataset_url} into file {zip_download_dir}\")\n",
    "            file_id = dataset_url.split(\"/\")[-2]\n",
    "            prefix = \"https://drive.google.com/uc?export=download&id=\"\n",
    "            gdown.download(prefix+file_id, zip_download_dir)\n",
    "\n",
    "            logger.info(f\"Downloaded data from {dataset_url} into file {zip_download_dir}\")\n",
    "\n",
    "        except Exception as e:\n",
    "            raise e\n",
    "\n",
    "\n",
    "\n",
    "    def extract_zip_file(self):\n",
    "        \"\"\"\n",
    "        zip_file_path: str\n",
    "        Extracts the zip file into the data directory\n",
    "        Function returns None\n",
    "        \"\"\"\n",
    "        unzip_path = self.config.unzip_dir\n",
    "        zip_path = self.config.local_data_file\n",
    "        os.makedirs(unzip_path, exist_ok=True)\n",
    "        with zipfile.ZipFile(zip_path, 'r') as zip_ref:\n",
    "            zip_ref.extractall(unzip_path)\n",
    "\n",
    "\n",
    "\n",
    "    def remove_unreadable_images(self):\n",
    "        training_data = self.config.training_data\n",
    "        deleted = 0\n",
    "        total = 0\n",
    "\n",
    "        for img_path in training_data.rglob(\"*.jpeg\"):\n",
    "            total += 1\n",
    "            try:\n",
    "                with Image.open(img_path) as img:\n",
    "                    img.verify()\n",
    "            except (UnidentifiedImageError, OSError) as e:\n",
    "                try:\n",
    "                    img_path.unlink()\n",
    "                    deleted += 1\n",
    "                except Exception as remove_err:\n",
    "                    logger.error(f\"Failed to remove {img_path}: {remove_err}\")\n",
    "\n",
    "        logger.info(f\"Unreadable image removal complete — Total: {total}, Removed: {deleted}, Valid: {total - deleted}\")\n",
    "               \n",
    "       \n",
    "\n"
   ]
  },
  {
   "cell_type": "code",
   "execution_count": 10,
   "id": "8577821d",
   "metadata": {},
   "outputs": [
    {
     "name": "stdout",
     "output_type": "stream",
     "text": [
      "[2025-07-29 17:49:23,730: INFO: common: yaml file : config\\config.yaml loaded succesfully]\n",
      "[2025-07-29 17:49:23,734: INFO: common: yaml file : params.yaml loaded succesfully]\n",
      "[2025-07-29 17:49:23,736: INFO: common: created directory at: artifacts]\n",
      "[2025-07-29 17:49:23,738: INFO: common: created directory at: artifacts/data_ingestion]\n",
      "[2025-07-29 17:49:23,740: INFO: 3514651227: Downloading data from https://drive.google.com/file/d/1kmrF8EWe8l3mHAkZoWujvA2paXeUiDxR/view?usp=sharing into file artifacts/data_ingestion/data.zip]\n"
     ]
    },
    {
     "name": "stderr",
     "output_type": "stream",
     "text": [
      "Downloading...\n",
      "From (original): https://drive.google.com/uc?export=download&id=1kmrF8EWe8l3mHAkZoWujvA2paXeUiDxR\n",
      "From (redirected): https://drive.google.com/uc?export=download&id=1kmrF8EWe8l3mHAkZoWujvA2paXeUiDxR&confirm=t&uuid=b436c48d-75da-4bbf-a012-a9a60226f3d5\n",
      "To: d:\\AI ML Project\\oral-lesion-detection-ai\\artifacts\\data_ingestion\\data.zip\n",
      "100%|██████████| 165M/165M [00:43<00:00, 3.80MB/s] "
     ]
    },
    {
     "name": "stdout",
     "output_type": "stream",
     "text": [
      "[2025-07-29 17:50:10,190: INFO: 3514651227: Downloaded data from https://drive.google.com/file/d/1kmrF8EWe8l3mHAkZoWujvA2paXeUiDxR/view?usp=sharing into file artifacts/data_ingestion/data.zip]\n"
     ]
    },
    {
     "name": "stderr",
     "output_type": "stream",
     "text": [
      "\n"
     ]
    },
    {
     "name": "stdout",
     "output_type": "stream",
     "text": [
      "[2025-07-29 17:50:13,305: WARNING: 3514651227: Removing unreadable image: artifacts\\data_ingestion\\Oral Cancer Image Dataset\\CANCER\\101.jpeg — cannot identify image file 'artifacts\\\\data_ingestion\\\\Oral Cancer Image Dataset\\\\CANCER\\\\101.jpeg']\n"
     ]
    },
    {
     "name": "stderr",
     "output_type": "stream",
     "text": [
      "c:\\Anaconda\\envs\\oral\\Lib\\site-packages\\PIL\\Image.py:3570: UserWarning: image file could not be identified because AVIF support not installed\n",
      "  warnings.warn(message)\n"
     ]
    },
    {
     "name": "stdout",
     "output_type": "stream",
     "text": [
      "[2025-07-29 17:50:14,200: WARNING: 3514651227: Removing unreadable image: artifacts\\data_ingestion\\Oral Cancer Image Dataset\\CANCER\\200.jpeg — cannot identify image file 'artifacts\\\\data_ingestion\\\\Oral Cancer Image Dataset\\\\CANCER\\\\200.jpeg']\n",
      "[2025-07-29 17:50:14,732: WARNING: 3514651227: Removing unreadable image: artifacts\\data_ingestion\\Oral Cancer Image Dataset\\CANCER\\273.jpeg — cannot identify image file 'artifacts\\\\data_ingestion\\\\Oral Cancer Image Dataset\\\\CANCER\\\\273.jpeg']\n",
      "[2025-07-29 17:50:15,052: WARNING: 3514651227: Removing unreadable image: artifacts\\data_ingestion\\Oral Cancer Image Dataset\\CANCER\\317.jpeg — cannot identify image file 'artifacts\\\\data_ingestion\\\\Oral Cancer Image Dataset\\\\CANCER\\\\317.jpeg']\n",
      "[2025-07-29 17:50:15,137: WARNING: 3514651227: Removing unreadable image: artifacts\\data_ingestion\\Oral Cancer Image Dataset\\CANCER\\328.jpeg — cannot identify image file 'artifacts\\\\data_ingestion\\\\Oral Cancer Image Dataset\\\\CANCER\\\\328.jpeg']\n",
      "[2025-07-29 17:50:15,751: WARNING: 3514651227: Removing unreadable image: artifacts\\data_ingestion\\Oral Cancer Image Dataset\\CANCER\\407.jpeg — cannot identify image file 'artifacts\\\\data_ingestion\\\\Oral Cancer Image Dataset\\\\CANCER\\\\407.jpeg']\n",
      "[2025-07-29 17:50:16,125: WARNING: 3514651227: Removing unreadable image: artifacts\\data_ingestion\\Oral Cancer Image Dataset\\CANCER\\450.jpeg — cannot identify image file 'artifacts\\\\data_ingestion\\\\Oral Cancer Image Dataset\\\\CANCER\\\\450.jpeg']\n",
      "[2025-07-29 17:50:16,152: WARNING: 3514651227: Removing unreadable image: artifacts\\data_ingestion\\Oral Cancer Image Dataset\\CANCER\\455.jpeg — cannot identify image file 'artifacts\\\\data_ingestion\\\\Oral Cancer Image Dataset\\\\CANCER\\\\455.jpeg']\n",
      "[2025-07-29 17:50:16,371: WARNING: 3514651227: Removing unreadable image: artifacts\\data_ingestion\\Oral Cancer Image Dataset\\CANCER\\481.jpeg — cannot identify image file 'artifacts\\\\data_ingestion\\\\Oral Cancer Image Dataset\\\\CANCER\\\\481.jpeg']\n",
      "[2025-07-29 17:50:16,404: WARNING: 3514651227: Removing unreadable image: artifacts\\data_ingestion\\Oral Cancer Image Dataset\\CANCER\\485.jpeg — cannot identify image file 'artifacts\\\\data_ingestion\\\\Oral Cancer Image Dataset\\\\CANCER\\\\485.jpeg']\n",
      "[2025-07-29 17:50:20,005: INFO: 3514651227: Unreadable image removal complete — Total: 950, Removed: 10, Valid: 940]\n"
     ]
    }
   ],
   "source": [
    "try:\n",
    "    config = ConfigurationManager()\n",
    "    data_ingestion_config = config.get_data_ingestion_config()\n",
    "    data_ingestion = DataIngestion(config=data_ingestion_config)\n",
    "    data_ingestion.download_file()\n",
    "    data_ingestion.extract_zip_file()\n",
    "    data_ingestion.remove_unreadable_images()\n",
    "\n",
    "except Exception as e:\n",
    "    raise e    "
   ]
  },
  {
   "cell_type": "code",
   "execution_count": null,
   "id": "f32cb99f",
   "metadata": {},
   "outputs": [],
   "source": []
  }
 ],
 "metadata": {
  "kernelspec": {
   "display_name": "oral",
   "language": "python",
   "name": "python3"
  },
  "language_info": {
   "codemirror_mode": {
    "name": "ipython",
    "version": 3
   },
   "file_extension": ".py",
   "mimetype": "text/x-python",
   "name": "python",
   "nbconvert_exporter": "python",
   "pygments_lexer": "ipython3",
   "version": "3.12.7"
  }
 },
 "nbformat": 4,
 "nbformat_minor": 5
}
