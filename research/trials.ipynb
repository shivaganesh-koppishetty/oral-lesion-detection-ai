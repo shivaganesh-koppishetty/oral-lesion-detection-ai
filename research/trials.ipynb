{
 "cells": [
  {
   "cell_type": "code",
   "execution_count": 1,
   "id": "a2a45f4e",
   "metadata": {},
   "outputs": [],
   "source": [
    "# Download the dataset from google drive"
   ]
  },
  {
   "cell_type": "code",
   "execution_count": 7,
   "id": "7ab6d73b",
   "metadata": {},
   "outputs": [],
   "source": [
    "import gdown"
   ]
  },
  {
   "cell_type": "code",
   "execution_count": 2,
   "id": "bafc24a3",
   "metadata": {},
   "outputs": [],
   "source": [
    "url = \"https://drive.google.com/file/d/1kmrF8EWe8l3mHAkZoWujvA2paXeUiDxR/view?usp=sharing\""
   ]
  },
  {
   "cell_type": "code",
   "execution_count": 5,
   "id": "9584e27e",
   "metadata": {},
   "outputs": [
    {
     "data": {
      "text/plain": [
       "'1kmrF8EWe8l3mHAkZoWujvA2paXeUiDxR'"
      ]
     },
     "execution_count": 5,
     "metadata": {},
     "output_type": "execute_result"
    }
   ],
   "source": [
    "file_id = url.split(\"/\")[-2]\n",
    "file_id"
   ]
  },
  {
   "cell_type": "code",
   "execution_count": 8,
   "id": "0709b4db",
   "metadata": {},
   "outputs": [
    {
     "name": "stderr",
     "output_type": "stream",
     "text": [
      "Downloading...\n",
      "From (original): https://drive.google.com/uc?export=download&id=1kmrF8EWe8l3mHAkZoWujvA2paXeUiDxR\n",
      "From (redirected): https://drive.google.com/uc?export=download&id=1kmrF8EWe8l3mHAkZoWujvA2paXeUiDxR&confirm=t&uuid=49dfd8ac-cf7e-40b2-948c-6103db0aa219\n",
      "To: d:\\AI ML Project\\oral-lesion-detection-ai\\research\\Oral-Cancer-image-dataset.zip\n",
      "100%|██████████| 165M/165M [00:43<00:00, 3.82MB/s] \n"
     ]
    },
    {
     "data": {
      "text/plain": [
       "'Oral-Cancer-image-dataset.zip'"
      ]
     },
     "execution_count": 8,
     "metadata": {},
     "output_type": "execute_result"
    }
   ],
   "source": [
    "prefix = \"https://drive.google.com/uc?export=download&id=\"\n",
    "\n",
    "gdown.download(prefix+file_id, \"Oral-Cancer-image-dataset.zip\")"
   ]
  }
 ],
 "metadata": {
  "kernelspec": {
   "display_name": "oral",
   "language": "python",
   "name": "python3"
  },
  "language_info": {
   "codemirror_mode": {
    "name": "ipython",
    "version": 3
   },
   "file_extension": ".py",
   "mimetype": "text/x-python",
   "name": "python",
   "nbconvert_exporter": "python",
   "pygments_lexer": "ipython3",
   "version": "3.12.7"
  }
 },
 "nbformat": 4,
 "nbformat_minor": 5
}
